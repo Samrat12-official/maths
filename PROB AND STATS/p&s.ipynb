{
 "cells": [
  {
   "cell_type": "markdown",
   "metadata": {},
   "source": [
    "https://samp-suman-normal-dist-visualize-app-lkntug.streamlit.app/    👈normal distribution visualization"
   ]
  },
  {
   "cell_type": "markdown",
   "metadata": {},
   "source": [
    "https://campusx-official-confidence-interval-viz-app-kwg6wq.streamlit.app/         #👈👈 Confidence Interval Simulation"
   ]
  },
  {
   "cell_type": "markdown",
   "metadata": {},
   "source": [
    "https://campusx-official-z-distribution-conf-confidence-interval-bx6u60.streamlit.app/   #👈👈👈Confidence Interval Calculator for Z Procedure"
   ]
  },
  {
   "cell_type": "markdown",
   "metadata": {},
   "source": [
    "https://campusx-official-normal-distribution-vs-t-distributi-app-28si1q.streamlit.app/   #   Normal and t-Distribution Comparison"
   ]
  }
 ],
 "metadata": {
  "kernelspec": {
   "display_name": "samenv",
   "language": "python",
   "name": "python3"
  },
  "language_info": {
   "codemirror_mode": {
    "name": "ipython",
    "version": 3
   },
   "file_extension": ".py",
   "mimetype": "text/x-python",
   "name": "python",
   "nbconvert_exporter": "python",
   "pygments_lexer": "ipython3",
   "version": "3.11.9"
  }
 },
 "nbformat": 4,
 "nbformat_minor": 2
}
